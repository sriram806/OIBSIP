{
 "cells": [
  {
   "cell_type": "markdown",
   "id": "acd5b60c-743a-42ab-bda0-3c741cd80e75",
   "metadata": {},
   "source": [
    "<h1 style=\"color:red;text-align: center;\">PASSWORD GENERATOR</h1>"
   ]
  },
  {
   "cell_type": "code",
   "execution_count": 3,
   "id": "507a0581",
   "metadata": {},
   "outputs": [],
   "source": [
    "#IMPORTING REQUIRED LIBRARIES AND MODULES\n",
    "import random\n",
    "import string"
   ]
  },
  {
   "cell_type": "code",
   "execution_count": 4,
   "id": "a8d97af9",
   "metadata": {},
   "outputs": [],
   "source": [
    "#define different characters \n",
    "letters = string.ascii_letters\n",
    "numbers = string.digits\n",
    "symbols = string.punctuation"
   ]
  },
  {
   "cell_type": "code",
   "execution_count": 5,
   "id": "8f81279d",
   "metadata": {},
   "outputs": [],
   "source": [
    "#A FUNCTION TO GET USER INPUT\n",
    "def get_user_input():\n",
    "    length = int(input(\"Enter the desired length of the password: \"))\n",
    "    include_letters = input(\"Include letters? (y/n): \").lower() == 'y'\n",
    "    include_numbers = input(\"Include numbers? (y/n): \").lower() == 'y'\n",
    "    include_symbols = input(\"Include symbols? (y/n): \").lower() == 'y'\n",
    "    return length, include_letters, include_numbers, include_symbols"
   ]
  },
  {
   "cell_type": "code",
   "execution_count": 6,
   "id": "db07138c",
   "metadata": {},
   "outputs": [],
   "source": [
    "#A FUNCTION TO VALIDATE THE CHARACTERS\n",
    "def validate_user_input(include_letters, include_numbers, include_symbols):\n",
    "    if not (include_letters or include_numbers or include_symbols):\n",
    "        print(\"You must include at least one character type!\")\n",
    "        return False\n",
    "    return True"
   ]
  },
  {
   "cell_type": "code",
   "execution_count": 7,
   "id": "3f80ffd8",
   "metadata": {},
   "outputs": [],
   "source": [
    "#A FUNCTION TO GENERATE A RANDOM PASSWORD\n",
    "def generate_password(length, include_letters, include_numbers, include_symbols):\n",
    "    character_pool = \"\"\n",
    "    if include_letters:\n",
    "        character_pool += letters\n",
    "    if include_numbers:\n",
    "        character_pool += numbers\n",
    "    if include_symbols:\n",
    "        character_pool += symbols\n",
    "\n",
    "    if character_pool:\n",
    "        password = ''.join(random.choice(character_pool) for _ in range(length))\n",
    "        return password\n",
    "    else:\n",
    "        return None"
   ]
  },
  {
   "cell_type": "code",
   "execution_count": 10,
   "id": "cfe4e953",
   "metadata": {},
   "outputs": [
    {
     "name": "stdin",
     "output_type": "stream",
     "text": [
      "Enter the desired length of the password:  Y\n"
     ]
    },
    {
     "ename": "ValueError",
     "evalue": "invalid literal for int() with base 10: 'Y'",
     "output_type": "error",
     "traceback": [
      "\u001b[1;31m---------------------------------------------------------------------------\u001b[0m",
      "\u001b[1;31mValueError\u001b[0m                                Traceback (most recent call last)",
      "Cell \u001b[1;32mIn[10], line 13\u001b[0m\n\u001b[0;32m     10\u001b[0m         \u001b[38;5;28mprint\u001b[39m(\u001b[38;5;124m\"\u001b[39m\u001b[38;5;124mFailed to generate password. Please try again.\u001b[39m\u001b[38;5;124m\"\u001b[39m)\n\u001b[0;32m     12\u001b[0m \u001b[38;5;28;01mif\u001b[39;00m \u001b[38;5;18m__name__\u001b[39m \u001b[38;5;241m==\u001b[39m \u001b[38;5;124m\"\u001b[39m\u001b[38;5;124m__main__\u001b[39m\u001b[38;5;124m\"\u001b[39m:\n\u001b[1;32m---> 13\u001b[0m     \u001b[43mmain\u001b[49m\u001b[43m(\u001b[49m\u001b[43m)\u001b[49m\n",
      "Cell \u001b[1;32mIn[10], line 3\u001b[0m, in \u001b[0;36mmain\u001b[1;34m()\u001b[0m\n\u001b[0;32m      2\u001b[0m \u001b[38;5;28;01mdef\u001b[39;00m \u001b[38;5;21mmain\u001b[39m():\n\u001b[1;32m----> 3\u001b[0m     length, include_letters, include_numbers, include_symbols \u001b[38;5;241m=\u001b[39m \u001b[43mget_user_input\u001b[49m\u001b[43m(\u001b[49m\u001b[43m)\u001b[49m\n\u001b[0;32m      4\u001b[0m     \u001b[38;5;28;01mif\u001b[39;00m \u001b[38;5;129;01mnot\u001b[39;00m validate_user_input(include_letters, include_numbers, include_symbols):\n\u001b[0;32m      5\u001b[0m         \u001b[38;5;28;01mreturn\u001b[39;00m\n",
      "Cell \u001b[1;32mIn[5], line 3\u001b[0m, in \u001b[0;36mget_user_input\u001b[1;34m()\u001b[0m\n\u001b[0;32m      2\u001b[0m \u001b[38;5;28;01mdef\u001b[39;00m \u001b[38;5;21mget_user_input\u001b[39m():\n\u001b[1;32m----> 3\u001b[0m     length \u001b[38;5;241m=\u001b[39m \u001b[38;5;28;43mint\u001b[39;49m\u001b[43m(\u001b[49m\u001b[38;5;28;43minput\u001b[39;49m\u001b[43m(\u001b[49m\u001b[38;5;124;43m\"\u001b[39;49m\u001b[38;5;124;43mEnter the desired length of the password: \u001b[39;49m\u001b[38;5;124;43m\"\u001b[39;49m\u001b[43m)\u001b[49m\u001b[43m)\u001b[49m\n\u001b[0;32m      4\u001b[0m     include_letters \u001b[38;5;241m=\u001b[39m \u001b[38;5;28minput\u001b[39m(\u001b[38;5;124m\"\u001b[39m\u001b[38;5;124mInclude letters? (y/n): \u001b[39m\u001b[38;5;124m\"\u001b[39m)\u001b[38;5;241m.\u001b[39mlower() \u001b[38;5;241m==\u001b[39m \u001b[38;5;124m'\u001b[39m\u001b[38;5;124my\u001b[39m\u001b[38;5;124m'\u001b[39m\n\u001b[0;32m      5\u001b[0m     include_numbers \u001b[38;5;241m=\u001b[39m \u001b[38;5;28minput\u001b[39m(\u001b[38;5;124m\"\u001b[39m\u001b[38;5;124mInclude numbers? (y/n): \u001b[39m\u001b[38;5;124m\"\u001b[39m)\u001b[38;5;241m.\u001b[39mlower() \u001b[38;5;241m==\u001b[39m \u001b[38;5;124m'\u001b[39m\u001b[38;5;124my\u001b[39m\u001b[38;5;124m'\u001b[39m\n",
      "\u001b[1;31mValueError\u001b[0m: invalid literal for int() with base 10: 'Y'"
     ]
    }
   ],
   "source": [
    "#MAIN FUNCTION\n",
    "def main():\n",
    "    length, include_letters, include_numbers, include_symbols = get_user_input()\n",
    "    if not validate_user_input(include_letters, include_numbers, include_symbols):\n",
    "        return\n",
    "    password = generate_password(length, include_letters, include_numbers, include_symbols)\n",
    "    if password:\n",
    "        print(f\"Generated password: {password}\")\n",
    "    else:\n",
    "        print(\"Failed to generate password. Please try again.\")\n",
    "\n",
    "if __name__ == \"__main__\":\n",
    "    main()"
   ]
  },
  {
   "cell_type": "code",
   "execution_count": null,
   "id": "de90de23",
   "metadata": {},
   "outputs": [],
   "source": []
  }
 ],
 "metadata": {
  "kernelspec": {
   "display_name": "Python 3 (ipykernel)",
   "language": "python",
   "name": "python3"
  },
  "language_info": {
   "codemirror_mode": {
    "name": "ipython",
    "version": 3
   },
   "file_extension": ".py",
   "mimetype": "text/x-python",
   "name": "python",
   "nbconvert_exporter": "python",
   "pygments_lexer": "ipython3",
   "version": "3.11.7"
  }
 },
 "nbformat": 4,
 "nbformat_minor": 5
}
