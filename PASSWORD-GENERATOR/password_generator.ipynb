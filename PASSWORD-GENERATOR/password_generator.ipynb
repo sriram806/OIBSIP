{
 "cells": [
  {
   "cell_type": "markdown",
   "id": "acd5b60c-743a-42ab-bda0-3c741cd80e75",
   "metadata": {},
   "source": [
    "<h1 style=\"color:red;text-align: center;\">PASSWORD GENERATOR</h1>"
   ]
  },
  {
   "cell_type": "code",
   "execution_count": 1,
   "id": "507a0581",
   "metadata": {},
   "outputs": [],
   "source": [
    "#IMPORTING REQUIRED LIBRARIES AND MODULES\n",
    "import random\n",
    "import string"
   ]
  },
  {
   "cell_type": "code",
   "execution_count": 2,
   "id": "a8d97af9",
   "metadata": {},
   "outputs": [],
   "source": [
    "#define different characters \n",
    "letters = string.ascii_letters\n",
    "numbers = string.digits\n",
    "symbols = string.punctuation"
   ]
  },
  {
   "cell_type": "code",
   "execution_count": 3,
   "id": "8f81279d",
   "metadata": {},
   "outputs": [],
   "source": [
    "#A FUNCTION TO GET USER INPUT\n",
    "def get_user_input():\n",
    "    length = int(input(\"Enter the desired length of the password: \"))\n",
    "    include_letters = input(\"Include letters? (y/n): \").lower() == 'y'\n",
    "    include_numbers = input(\"Include numbers? (y/n): \").lower() == 'y'\n",
    "    include_symbols = input(\"Include symbols? (y/n): \").lower() == 'y'\n",
    "    return length, include_letters, include_numbers, include_symbols"
   ]
  },
  {
   "cell_type": "code",
   "execution_count": 4,
   "id": "db07138c",
   "metadata": {},
   "outputs": [],
   "source": [
    "#A FUNCTION TO VALIDATE THE CHARACTERS\n",
    "def validate_user_input(include_letters, include_numbers, include_symbols):\n",
    "    if not (include_letters or include_numbers or include_symbols):\n",
    "        print(\"You must include at least one character type!\")\n",
    "        return False\n",
    "    return True"
   ]
  },
  {
   "cell_type": "code",
   "execution_count": 5,
   "id": "3f80ffd8",
   "metadata": {},
   "outputs": [],
   "source": [
    "#A FUNCTION TO GENERATE A RANDOM PASSWORD\n",
    "def generate_password(length, include_letters, include_numbers, include_symbols):\n",
    "    character_pool = \"\"\n",
    "    if include_letters:\n",
    "        character_pool += letters\n",
    "    if include_numbers:\n",
    "        character_pool += numbers\n",
    "    if include_symbols:\n",
    "        character_pool += symbols\n",
    "\n",
    "    if character_pool:\n",
    "        password = ''.join(random.choice(character_pool) for _ in range(length))\n",
    "        return password\n",
    "    else:\n",
    "        return None"
   ]
  },
  {
   "cell_type": "code",
   "execution_count": 9,
   "id": "cfe4e953",
   "metadata": {},
   "outputs": [
    {
     "name": "stdin",
     "output_type": "stream",
     "text": [
      "Enter the desired length of the password:  5\n",
      "Include letters? (y/n):  n\n",
      "Include numbers? (y/n):  n\n",
      "Include symbols? (y/n):  y\n"
     ]
    },
    {
     "name": "stdout",
     "output_type": "stream",
     "text": [
      "Generated password: \\\\^*;\n"
     ]
    }
   ],
   "source": [
    "#MAIN FUNCTION\n",
    "def main():\n",
    "    length, include_letters, include_numbers, include_symbols = get_user_input()\n",
    "    if not validate_user_input(include_letters, include_numbers, include_symbols):\n",
    "        return\n",
    "    password = generate_password(length, include_letters, include_numbers, include_symbols)\n",
    "    if password:\n",
    "        print(f\"Generated password: {password}\")\n",
    "    else:\n",
    "        print(\"Failed to generate password. Please try again.\")\n",
    "\n",
    "if __name__ == \"__main__\":\n",
    "    main()"
   ]
  },
  {
   "cell_type": "code",
   "execution_count": null,
   "id": "de90de23",
   "metadata": {},
   "outputs": [],
   "source": []
  }
 ],
 "metadata": {
  "kernelspec": {
   "display_name": "Python 3 (ipykernel)",
   "language": "python",
   "name": "python3"
  },
  "language_info": {
   "codemirror_mode": {
    "name": "ipython",
    "version": 3
   },
   "file_extension": ".py",
   "mimetype": "text/x-python",
   "name": "python",
   "nbconvert_exporter": "python",
   "pygments_lexer": "ipython3",
   "version": "3.11.7"
  }
 },
 "nbformat": 4,
 "nbformat_minor": 5
}
