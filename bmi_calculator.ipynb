{
 "cells": [
  {
   "cell_type": "code",
   "execution_count": 1,
   "id": "c335290e-4553-46b4-bee1-b874d86d92c5",
   "metadata": {},
   "outputs": [],
   "source": [
    "#function to calculate the weight and heigth ad BMI\n",
    "def calculate_bmi(weight, height):\n",
    "    return weight / (height ** 2)"
   ]
  },
  {
   "cell_type": "code",
   "execution_count": 2,
   "id": "e8506b8e-5d38-4a45-98cb-a7323183a83c",
   "metadata": {},
   "outputs": [],
   "source": [
    "#Function to categorize bmi based on calculation \n",
    "def categorize_bmi(bmi):\n",
    "    if bmi < 18.5:\n",
    "        return \"Underweight\"\n",
    "    elif bmi < 25:\n",
    "        return \"Normal weight\"\n",
    "    elif bmi < 30:\n",
    "        return \"Overweight\"\n",
    "    else:\n",
    "        return \"Obesity\""
   ]
  },
  {
   "cell_type": "code",
   "execution_count": null,
   "id": "230a1ae1-838d-4fbd-ab07-6610a53518a8",
   "metadata": {},
   "outputs": [
    {
     "name": "stdout",
     "output_type": "stream",
     "text": [
      "\t\t\\t\t\tBMI Calculator\n"
     ]
    }
   ],
   "source": [
    "def main():\n",
    "    print(\"\\t\\t\\t\\t\\t\\tBMI Calculator\")\n",
    "\n",
    "    # Input weight and height from the user\n",
    "    while True:\n",
    "        try:\n",
    "            weight = float(input(\"Enter your weight in kilograms: \"))\n",
    "            height = float(input(\"Enter your height in meters: \"))\n",
    "            if weight <= 0 or height <= 0:\n",
    "                raise ValueError(\"Weight and height must be positive numbers.\")\n",
    "            break  # Exit the loop if inputs are valid\n",
    "        except ValueError as ve:\n",
    "            print(f\"Error: {ve}. Please enter valid numbers.\")\n",
    "\n",
    "    # Calculate BMI\n",
    "    bmi = calculate_bmi(weight, height)\n",
    "\n",
    "    # Categorize BMI\n",
    "    bmi_category = categorize_bmi(bmi)\n",
    "\n",
    "    # Print results\n",
    "    print(f\"Your BMI is: {bmi:.2f}\")\n",
    "    print(f\"This is considered: {bmi_category}\")\n",
    "\n",
    "if __name__ == \"__main__\":\n",
    "    main()\n"
   ]
  },
  {
   "cell_type": "code",
   "execution_count": null,
   "id": "5b8f2b05-aa98-445e-b588-b4fea27d4275",
   "metadata": {},
   "outputs": [],
   "source": []
  }
 ],
 "metadata": {
  "kernelspec": {
   "display_name": "Python 3 (ipykernel)",
   "language": "python",
   "name": "python3"
  },
  "language_info": {
   "codemirror_mode": {
    "name": "ipython",
    "version": 3
   },
   "file_extension": ".py",
   "mimetype": "text/x-python",
   "name": "python",
   "nbconvert_exporter": "python",
   "pygments_lexer": "ipython3",
   "version": "3.11.7"
  }
 },
 "nbformat": 4,
 "nbformat_minor": 5
}
