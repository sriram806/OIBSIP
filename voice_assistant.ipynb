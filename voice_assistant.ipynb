{
 "cells": [
  {
   "cell_type": "markdown",
   "metadata": {},
   "source": [
    "# VOICE ASSISTANT"
   ]
  },
  {
   "cell_type": "code",
   "execution_count": 1,
   "metadata": {},
   "outputs": [],
   "source": [
    "#firstly,we have to install required libraries and modules\n",
    "import speech_recognition as sr #pip install speechrecognition \n",
    "import pyttsx3  #pip install pyttsx3\n",
    "import datetime #pip install DateTime / it is a Python built-in module.\n",
    "import webbrowser #pip install pycopy-webbrowser"
   ]
  },
  {
   "cell_type": "code",
   "execution_count": 2,
   "metadata": {},
   "outputs": [],
   "source": [
    "#Function to convert text to speach using pyttsx3\n",
    "engine = pyttsx3.init()\n",
    "\n",
    "def speak(text):\n",
    "    engine.say(text)\n",
    "    engine.runAndWait()"
   ]
  },
  {
   "cell_type": "code",
   "execution_count": 3,
   "metadata": {},
   "outputs": [],
   "source": [
    "#Function to quite resilient, dealing with common speech recognition failures\n",
    "def recognize_speech():\n",
    "    recognizer = sr.Recognizer()\n",
    "    with sr.Microphone() as source:\n",
    "        print(\"Listening...\")\n",
    "        audio = recognizer.listen(source)\n",
    "        try:\n",
    "            text = recognizer.recognize_google(audio , language='en-IN')\n",
    "            print(f\"You said: {text}\")\n",
    "            return text.lower()\n",
    "        except sr.UnknownValueError:\n",
    "            speak(\"Sorry,I did not understand you\")\n",
    "            return \"\"\n",
    "        except sr.RequestError:\n",
    "            speak(\"Sorry,speech service is down\")\n",
    "            return \"\"\n"
   ]
  },
  {
   "cell_type": "code",
   "execution_count": 4,
   "metadata": {},
   "outputs": [],
   "source": [
    "#Function to tell current time\n",
    "def tell_time():\n",
    "    now = datetime.datetime.now()\n",
    "    current_time = now.strftime(\"%I:%M %p\")\n",
    "    speak(f\"The current time is {current_time}\")\n"
   ]
  },
  {
   "cell_type": "code",
   "execution_count": 5,
   "metadata": {},
   "outputs": [],
   "source": [
    "# Function to tell the current date\n",
    "def tell_date():\n",
    "    now = datetime.datetime.now()\n",
    "    current_date = now.strftime(\"%B %d, %Y\")\n",
    "    speak(f\"Today's date is {current_date}\")"
   ]
  },
  {
   "cell_type": "code",
   "execution_count": 6,
   "metadata": {},
   "outputs": [],
   "source": [
    "#Function to Search \n",
    "def search_web(query):\n",
    "    webbrowser.open(f\"https://www.google.com/search?q={query}\")\n",
    "    speak(f\"okay , here are the results for {query}\")"
   ]
  },
  {
   "cell_type": "code",
   "execution_count": 7,
   "metadata": {},
   "outputs": [
    {
     "name": "stdout",
     "output_type": "stream",
     "text": [
      "Listening...\n",
      "You said: time\n",
      "Listening...\n",
      "Listening...\n",
      "Listening...\n"
     ]
    }
   ],
   "source": [
    "# Main function to handle voice commands\n",
    "def main():\n",
    "    speak(\"Hello, My name is Sriram , how can I assist you today?\")\n",
    "    while True:\n",
    "        command = recognize_speech()\n",
    "        if \"hello\" in command:\n",
    "            speak(\"Hello! How can I help you?\")\n",
    "        elif \"time\" in command:\n",
    "            tell_time()\n",
    "        elif \"date\" in command:\n",
    "            tell_date()\n",
    "        elif \"search\" in command:\n",
    "            speak(\"What do you want to search for?\")\n",
    "            query = recognize_speech()\n",
    "            search_web(query)\n",
    "        elif \"exit\" in command or \"quit\" in command:\n",
    "            speak(\"Goodbye!\")\n",
    "            break\n",
    "        else:\n",
    "            speak(\"Sorry, I don't know that command.\")\n",
    "\n",
    "if __name__ == \"__main__\":\n",
    "    main()"
   ]
  },
  {
   "cell_type": "code",
   "execution_count": null,
   "metadata": {},
   "outputs": [],
   "source": []
  }
 ],
 "metadata": {
  "kernelspec": {
   "display_name": "Python 3",
   "language": "python",
   "name": "python3"
  },
  "language_info": {
   "codemirror_mode": {
    "name": "ipython",
    "version": 3
   },
   "file_extension": ".py",
   "mimetype": "text/x-python",
   "name": "python",
   "nbconvert_exporter": "python",
   "pygments_lexer": "ipython3",
   "version": "3.11.7"
  }
 },
 "nbformat": 4,
 "nbformat_minor": 2
}
